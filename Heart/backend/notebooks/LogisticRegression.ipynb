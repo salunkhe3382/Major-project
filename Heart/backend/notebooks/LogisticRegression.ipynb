{
 "cells": [
  {
   "cell_type": "code",
   "execution_count": 1,
   "id": "9c4c9959-9343-443f-a52c-b0fcee80f2a8",
   "metadata": {},
   "outputs": [],
   "source": [
    "import pandas as pd\n",
    "import numpy as np\n",
    "from sklearn.model_selection import train_test_split\n",
    "from sklearn.preprocessing import StandardScaler\n",
    "from sklearn.metrics import confusion_matrix,accuracy_score,roc_curve,classification_report\n",
    "from sklearn.linear_model import LogisticRegression\n",
    "import pickle\n",
    "import joblib"
   ]
  },
  {
   "cell_type": "code",
   "execution_count": 2,
   "id": "566887ae-8dbe-4bfb-9599-7c1e96f46701",
   "metadata": {},
   "outputs": [
    {
     "data": {
      "text/plain": [
       "(1000, 14)"
      ]
     },
     "execution_count": 2,
     "metadata": {},
     "output_type": "execute_result"
    }
   ],
   "source": [
    "data = pd.read_csv(\"../data/heart.csv\")\n",
    "data.shape"
   ]
  },
  {
   "cell_type": "code",
   "execution_count": 3,
   "id": "2051bc02-49f0-411c-a0b8-eeb59624ad77",
   "metadata": {},
   "outputs": [
    {
     "data": {
      "text/html": [
       "<div>\n",
       "<style scoped>\n",
       "    .dataframe tbody tr th:only-of-type {\n",
       "        vertical-align: middle;\n",
       "    }\n",
       "\n",
       "    .dataframe tbody tr th {\n",
       "        vertical-align: top;\n",
       "    }\n",
       "\n",
       "    .dataframe thead th {\n",
       "        text-align: right;\n",
       "    }\n",
       "</style>\n",
       "<table border=\"1\" class=\"dataframe\">\n",
       "  <thead>\n",
       "    <tr style=\"text-align: right;\">\n",
       "      <th></th>\n",
       "      <th>patientid</th>\n",
       "      <th>age</th>\n",
       "      <th>gender</th>\n",
       "      <th>chestpain</th>\n",
       "      <th>restingBP</th>\n",
       "      <th>serumcholestrol</th>\n",
       "      <th>fastingbloodsugar</th>\n",
       "      <th>restingrelectro</th>\n",
       "      <th>maxheartrate</th>\n",
       "      <th>exerciseangia</th>\n",
       "      <th>oldpeak</th>\n",
       "      <th>slope</th>\n",
       "      <th>noofmajorvessels</th>\n",
       "      <th>target</th>\n",
       "    </tr>\n",
       "  </thead>\n",
       "  <tbody>\n",
       "    <tr>\n",
       "      <th>0</th>\n",
       "      <td>103368</td>\n",
       "      <td>53</td>\n",
       "      <td>1</td>\n",
       "      <td>2</td>\n",
       "      <td>171</td>\n",
       "      <td>0</td>\n",
       "      <td>0</td>\n",
       "      <td>1</td>\n",
       "      <td>147</td>\n",
       "      <td>0</td>\n",
       "      <td>5.3</td>\n",
       "      <td>3</td>\n",
       "      <td>3</td>\n",
       "      <td>1</td>\n",
       "    </tr>\n",
       "    <tr>\n",
       "      <th>1</th>\n",
       "      <td>119250</td>\n",
       "      <td>40</td>\n",
       "      <td>1</td>\n",
       "      <td>0</td>\n",
       "      <td>94</td>\n",
       "      <td>229</td>\n",
       "      <td>0</td>\n",
       "      <td>1</td>\n",
       "      <td>115</td>\n",
       "      <td>0</td>\n",
       "      <td>3.7</td>\n",
       "      <td>1</td>\n",
       "      <td>1</td>\n",
       "      <td>0</td>\n",
       "    </tr>\n",
       "    <tr>\n",
       "      <th>2</th>\n",
       "      <td>119372</td>\n",
       "      <td>49</td>\n",
       "      <td>1</td>\n",
       "      <td>2</td>\n",
       "      <td>133</td>\n",
       "      <td>142</td>\n",
       "      <td>0</td>\n",
       "      <td>0</td>\n",
       "      <td>202</td>\n",
       "      <td>1</td>\n",
       "      <td>5.0</td>\n",
       "      <td>1</td>\n",
       "      <td>0</td>\n",
       "      <td>0</td>\n",
       "    </tr>\n",
       "    <tr>\n",
       "      <th>3</th>\n",
       "      <td>132514</td>\n",
       "      <td>43</td>\n",
       "      <td>1</td>\n",
       "      <td>0</td>\n",
       "      <td>138</td>\n",
       "      <td>295</td>\n",
       "      <td>1</td>\n",
       "      <td>1</td>\n",
       "      <td>153</td>\n",
       "      <td>0</td>\n",
       "      <td>3.2</td>\n",
       "      <td>2</td>\n",
       "      <td>2</td>\n",
       "      <td>1</td>\n",
       "    </tr>\n",
       "    <tr>\n",
       "      <th>4</th>\n",
       "      <td>146211</td>\n",
       "      <td>31</td>\n",
       "      <td>1</td>\n",
       "      <td>1</td>\n",
       "      <td>199</td>\n",
       "      <td>0</td>\n",
       "      <td>0</td>\n",
       "      <td>2</td>\n",
       "      <td>136</td>\n",
       "      <td>0</td>\n",
       "      <td>5.3</td>\n",
       "      <td>3</td>\n",
       "      <td>2</td>\n",
       "      <td>1</td>\n",
       "    </tr>\n",
       "  </tbody>\n",
       "</table>\n",
       "</div>"
      ],
      "text/plain": [
       "   patientid  age  gender  chestpain  restingBP  serumcholestrol  \\\n",
       "0     103368   53       1          2        171                0   \n",
       "1     119250   40       1          0         94              229   \n",
       "2     119372   49       1          2        133              142   \n",
       "3     132514   43       1          0        138              295   \n",
       "4     146211   31       1          1        199                0   \n",
       "\n",
       "   fastingbloodsugar  restingrelectro  maxheartrate  exerciseangia  oldpeak  \\\n",
       "0                  0                1           147              0      5.3   \n",
       "1                  0                1           115              0      3.7   \n",
       "2                  0                0           202              1      5.0   \n",
       "3                  1                1           153              0      3.2   \n",
       "4                  0                2           136              0      5.3   \n",
       "\n",
       "   slope  noofmajorvessels  target  \n",
       "0      3                 3       1  \n",
       "1      1                 1       0  \n",
       "2      1                 0       0  \n",
       "3      2                 2       1  \n",
       "4      3                 2       1  "
      ]
     },
     "execution_count": 3,
     "metadata": {},
     "output_type": "execute_result"
    }
   ],
   "source": [
    "data.head()"
   ]
  },
  {
   "cell_type": "code",
   "execution_count": 4,
   "id": "512cf14c-5eb3-4f92-939a-596a5ce5f007",
   "metadata": {},
   "outputs": [],
   "source": [
    "y = data[\"target\"]\n",
    "X = data.drop(columns=['patientid','target'])\n",
    "X_train, X_test, y_train, y_test = train_test_split(X, y, test_size=0.20, random_state = 0)"
   ]
  },
  {
   "cell_type": "code",
   "execution_count": 5,
   "id": "6256c9a5-4d6e-401c-81a6-9ec2df9795a0",
   "metadata": {},
   "outputs": [
    {
     "data": {
      "text/plain": [
       "(800, 200)"
      ]
     },
     "execution_count": 5,
     "metadata": {},
     "output_type": "execute_result"
    }
   ],
   "source": [
    "len(X_train), len(X_test)"
   ]
  },
  {
   "cell_type": "code",
   "execution_count": 6,
   "id": "cb77decc-d739-4c83-bb96-84a7c4df804e",
   "metadata": {},
   "outputs": [],
   "source": [
    "scaler = StandardScaler()\n",
    "X_train = scaler.fit_transform(X_train)\n",
    "X_test = scaler.transform(X_test)"
   ]
  },
  {
   "cell_type": "code",
   "execution_count": 7,
   "id": "660dacaf",
   "metadata": {},
   "outputs": [
    {
     "data": {
      "text/plain": [
       "(800, 12)"
      ]
     },
     "execution_count": 7,
     "metadata": {},
     "output_type": "execute_result"
    }
   ],
   "source": [
    "X_train.shape"
   ]
  },
  {
   "cell_type": "code",
   "execution_count": 8,
   "id": "d407eb07-e51e-4477-87c9-7089bcb29921",
   "metadata": {},
   "outputs": [
    {
     "data": {
      "text/plain": [
       "array([4.9766250e+01, 7.6875000e-01, 1.0075000e+00, 1.5193750e+02,\n",
       "       3.1404625e+02, 3.1250000e-01, 7.5000000e-01, 1.4558625e+02,\n",
       "       5.0875000e-01, 2.7481250e+00, 1.5600000e+00, 1.2412500e+00])"
      ]
     },
     "execution_count": 8,
     "metadata": {},
     "output_type": "execute_result"
    }
   ],
   "source": [
    "scaler.mean_"
   ]
  },
  {
   "cell_type": "code",
   "execution_count": 9,
   "id": "f89bf786-3f4c-42ab-a6dd-7aa6763ac557",
   "metadata": {},
   "outputs": [
    {
     "data": {
      "text/plain": [
       "(-1.6725143415733175,\n",
       " 1.6987823617198097,\n",
       " -1.0532897487880573,\n",
       " 2.08305689772725)"
      ]
     },
     "execution_count": 9,
     "metadata": {},
     "output_type": "execute_result"
    }
   ],
   "source": [
    "X_train[:, 0].min(), X_train[:, 0].max(), X_train[:, 2].min(), X_train[:, 2].max()"
   ]
  },
  {
   "cell_type": "code",
   "execution_count": 10,
   "id": "6f90af91-5c15-465a-827c-2569514a7e3a",
   "metadata": {},
   "outputs": [
    {
     "data": {
      "text/plain": [
       "array([ 0.40645196, -1.82327297, -1.05328975,  0.93522777,  1.53631292,\n",
       "       -0.67419986,  0.32547228,  1.35413438, -1.01765584, -0.49016407,\n",
       "        1.43899306,  1.79450419])"
      ]
     },
     "execution_count": 10,
     "metadata": {},
     "output_type": "execute_result"
    }
   ],
   "source": [
    "X_train[0]"
   ]
  },
  {
   "cell_type": "code",
   "execution_count": 11,
   "id": "d75031b2-4a93-41f2-a05e-74021719aeaa",
   "metadata": {},
   "outputs": [
    {
     "name": "stdout",
     "output_type": "stream",
     "text": [
      "confussion matrix\n",
      "[[ 92   3]\n",
      " [  2 103]]\n",
      "\n",
      "\n",
      "Accuracy of Logistic Regression: 97.5 \n",
      "\n",
      "              precision    recall  f1-score   support\n",
      "\n",
      "           0       0.98      0.97      0.97        95\n",
      "           1       0.97      0.98      0.98       105\n",
      "\n",
      "    accuracy                           0.97       200\n",
      "   macro avg       0.98      0.97      0.97       200\n",
      "weighted avg       0.98      0.97      0.97       200\n",
      "\n"
     ]
    }
   ],
   "source": [
    "lr = LogisticRegression()\n",
    "model = lr.fit(X_train, y_train)\n",
    "lr_predict = lr.predict(X_test)\n",
    "lr_conf_matrix = confusion_matrix(y_test, lr_predict)\n",
    "lr_acc_score = accuracy_score(y_test, lr_predict)\n",
    "print(\"confussion matrix\")\n",
    "print(lr_conf_matrix)\n",
    "print(\"\\n\")\n",
    "print(\"Accuracy of Logistic Regression:\",lr_acc_score*100,'\\n')\n",
    "print(classification_report(y_test,lr_predict))"
   ]
  },
  {
   "cell_type": "code",
   "execution_count": 12,
   "id": "d4b465f0-d7e6-4fc6-ba90-04cbfd8e1ab6",
   "metadata": {},
   "outputs": [
    {
     "data": {
      "text/plain": [
       "array([1, 1, 1, 0, 1, 0, 1, 0, 1, 1, 1, 1, 0, 1, 0, 1, 1, 1, 0, 0, 0, 0,\n",
       "       0, 1, 1, 0, 0, 1, 1, 0, 0, 0, 1, 1, 1, 1, 1, 0, 0, 1, 0, 0, 1, 0,\n",
       "       1, 1, 0, 0, 0, 1, 0, 0, 1, 1, 0, 1, 1, 0, 1, 1, 1, 0, 1, 1, 0, 1,\n",
       "       1, 0, 1, 0, 0, 0, 0, 0, 0, 1, 0, 1, 1, 1, 1, 0, 1, 1, 0, 0, 0, 0,\n",
       "       0, 1, 1, 0, 1, 1, 1, 1, 0, 1, 1, 1, 1, 0, 1, 0, 1, 1, 1, 1, 0, 1,\n",
       "       1, 1, 0, 0, 0, 0, 1, 0, 1, 0, 0, 0, 0, 0, 1, 0, 0, 1, 1, 0, 0, 0,\n",
       "       0, 0, 0, 0, 0, 0, 1, 0, 0, 0, 1, 1, 1, 1, 0, 1, 1, 1, 0, 0, 0, 1,\n",
       "       0, 1, 1, 0, 1, 1, 1, 1, 0, 1, 1, 1, 1, 1, 1, 0, 0, 1, 1, 1, 0, 0,\n",
       "       1, 0, 1, 1, 0, 0, 0, 0, 0, 1, 0, 1, 1, 0, 1, 1, 0, 1, 0, 1, 0, 1,\n",
       "       1, 1], dtype=int64)"
      ]
     },
     "execution_count": 12,
     "metadata": {},
     "output_type": "execute_result"
    }
   ],
   "source": [
    "lr_predict"
   ]
  },
  {
   "cell_type": "code",
   "execution_count": 13,
   "id": "cc11cfa0-03cc-4458-86e8-1afd58858f50",
   "metadata": {},
   "outputs": [
    {
     "data": {
      "text/plain": [
       "(200, 2)"
      ]
     },
     "execution_count": 13,
     "metadata": {},
     "output_type": "execute_result"
    }
   ],
   "source": [
    "lr_predict_proba = lr.predict_proba(X_test)\n",
    "lr_predict_proba.shape"
   ]
  },
  {
   "cell_type": "code",
   "execution_count": 14,
   "id": "aeff0b13-0747-415e-bc28-b2f280429a12",
   "metadata": {},
   "outputs": [
    {
     "data": {
      "text/plain": [
       "array([9.99873491e-01, 9.93955607e-01, 9.99715299e-01, 3.28492090e-03,\n",
       "       9.54330660e-01, 2.77199626e-02, 9.78709934e-01, 3.91418168e-02,\n",
       "       9.99998245e-01, 9.66572330e-01, 9.72944260e-01, 9.97779989e-01,\n",
       "       5.96723958e-05, 9.75360567e-01, 1.46121256e-04, 9.77752831e-01,\n",
       "       9.99998372e-01, 9.98765685e-01, 1.86527173e-02, 7.19404602e-02,\n",
       "       6.95410953e-04, 2.56167118e-01, 5.37121749e-04, 9.99895964e-01,\n",
       "       9.39226976e-01, 7.31287233e-04, 8.93425386e-02, 9.99289957e-01,\n",
       "       9.98713435e-01, 1.04573218e-02, 3.01254766e-02, 2.91644188e-02,\n",
       "       9.93920962e-01, 9.99997648e-01, 9.99766574e-01, 9.80937191e-01,\n",
       "       9.99998514e-01, 1.40852780e-02, 3.70550449e-03, 9.17631277e-01,\n",
       "       3.29007861e-02, 2.38874292e-01, 9.83508694e-01, 3.02269416e-02,\n",
       "       9.99997294e-01, 9.99725274e-01, 1.85448272e-03, 2.58104940e-03,\n",
       "       5.29169054e-02, 9.11284832e-01, 1.81170160e-04, 6.59719688e-02,\n",
       "       9.06410404e-01, 9.76853602e-01, 2.21265774e-01, 9.98076700e-01,\n",
       "       9.99993835e-01, 1.87353756e-04, 8.47996584e-01, 9.67913170e-01,\n",
       "       9.95079434e-01, 4.99963460e-05, 9.53712971e-01, 9.99915577e-01,\n",
       "       1.24566570e-04, 9.92950487e-01, 9.98007066e-01, 8.57604915e-03,\n",
       "       9.92564895e-01, 6.24292566e-05, 4.14269249e-01, 1.47255879e-03,\n",
       "       3.70514765e-01, 4.53533626e-02, 1.11629691e-03, 8.60864461e-01,\n",
       "       5.51961147e-04, 9.99894563e-01, 9.99876891e-01, 9.93634335e-01,\n",
       "       9.97776738e-01, 5.59377427e-05, 9.78201319e-01, 9.41427422e-01,\n",
       "       4.19120413e-01, 8.20624372e-05, 1.58791222e-03, 4.47207535e-04,\n",
       "       1.41904183e-01, 9.92891977e-01, 9.91597517e-01, 5.44067056e-03,\n",
       "       9.97865460e-01, 7.15890964e-01, 9.68186841e-01, 8.45606065e-01,\n",
       "       1.89505017e-01, 9.99873190e-01, 9.98309232e-01, 9.99942985e-01,\n",
       "       9.69814641e-01, 3.48737019e-01, 9.99928495e-01, 4.72554609e-02,\n",
       "       9.99186695e-01, 9.99982055e-01, 7.49116558e-01, 9.58644845e-01,\n",
       "       4.57889118e-01, 9.82060583e-01, 9.89008978e-01, 9.96133115e-01,\n",
       "       8.07100360e-02, 9.87686159e-04, 8.02928189e-02, 4.45607412e-03,\n",
       "       9.99615504e-01, 2.03738576e-01, 9.98971336e-01, 1.91372415e-01,\n",
       "       3.94143729e-02, 1.89459282e-01, 3.52785799e-02, 1.19001946e-04,\n",
       "       9.99995317e-01, 2.86041352e-02, 2.80320318e-02, 9.99937375e-01,\n",
       "       9.26062479e-01, 7.23584223e-03, 4.54994434e-02, 3.38032927e-05,\n",
       "       2.75003880e-03, 2.89667837e-02, 8.64831573e-03, 1.04384949e-01,\n",
       "       5.76513124e-04, 5.16395339e-04, 9.99446099e-01, 5.08642691e-02,\n",
       "       2.95726547e-03, 6.01445915e-02, 9.99753545e-01, 9.99558262e-01,\n",
       "       9.99964884e-01, 9.93719182e-01, 5.47200864e-04, 9.99864777e-01,\n",
       "       9.53370887e-01, 9.99994048e-01, 3.02452089e-02, 8.11198240e-05,\n",
       "       1.65770837e-02, 9.99898268e-01, 5.73298090e-05, 9.73395496e-01,\n",
       "       9.87623469e-01, 5.73749400e-02, 7.89179756e-01, 9.99812968e-01,\n",
       "       9.56570839e-01, 9.99929116e-01, 1.25486348e-02, 7.22065175e-01,\n",
       "       9.73679082e-01, 9.99993032e-01, 9.96096203e-01, 9.95132627e-01,\n",
       "       9.74020760e-01, 2.19436147e-04, 7.39862252e-04, 9.99962983e-01,\n",
       "       9.48939277e-01, 9.82407139e-01, 9.51429296e-03, 8.41202684e-05,\n",
       "       9.93715192e-01, 4.12843216e-02, 9.99984233e-01, 9.99863594e-01,\n",
       "       1.02676967e-02, 1.20094095e-04, 8.34733520e-04, 8.26029924e-04,\n",
       "       9.74516615e-02, 9.99973881e-01, 2.01191377e-03, 9.94039871e-01,\n",
       "       9.99829501e-01, 3.61352680e-02, 9.96109811e-01, 9.96561725e-01,\n",
       "       2.60788993e-01, 9.99355988e-01, 2.24518118e-02, 9.63412674e-01,\n",
       "       3.59745190e-02, 9.99747798e-01, 9.99876040e-01, 7.45781865e-01])"
      ]
     },
     "execution_count": 14,
     "metadata": {},
     "output_type": "execute_result"
    }
   ],
   "source": [
    "lr_predict_probability = lr_predict_proba[:,1]\n",
    "lr_predict_probability"
   ]
  },
  {
   "cell_type": "code",
   "execution_count": 15,
   "id": "42cc9d84-0b93-4185-b243-7762411e6bf7",
   "metadata": {},
   "outputs": [
    {
     "data": {
      "text/plain": [
       "(200,)"
      ]
     },
     "execution_count": 15,
     "metadata": {},
     "output_type": "execute_result"
    }
   ],
   "source": [
    "lr_predict_probability.shape"
   ]
  },
  {
   "cell_type": "code",
   "execution_count": 16,
   "id": "bde253cf-1034-44cf-a233-66c19946238a",
   "metadata": {},
   "outputs": [],
   "source": [
    "# save the model to disk\n",
    "filename = '../saved_models/logistic_regression_model.sav'\n",
    "pickle.dump(model, open(filename, 'wb'))"
   ]
  },
  {
   "cell_type": "code",
   "execution_count": 17,
   "id": "93382d50",
   "metadata": {},
   "outputs": [
    {
     "data": {
      "text/plain": [
       "['../saved_models/logistic_regression_model_scaler']"
      ]
     },
     "execution_count": 17,
     "metadata": {},
     "output_type": "execute_result"
    }
   ],
   "source": [
    "# save the scaler to disk\n",
    "scaler_filename = \"../saved_models/logistic_regression_model_scaler\"\n",
    "joblib.dump(scaler, scaler_filename) "
   ]
  },
  {
   "cell_type": "markdown",
   "id": "1e4f6a4a-5648-49a8-8155-cc6cc70d4a90",
   "metadata": {},
   "source": [
    "# Front End"
   ]
  },
  {
   "cell_type": "code",
   "execution_count": 18,
   "id": "d9cd19ad",
   "metadata": {},
   "outputs": [],
   "source": [
    "# Load the scaler\n",
    "scaler_filename = \"../saved_models/logistic_regression_model_scaler\"\n",
    "scaler = joblib.load(scaler_filename)"
   ]
  },
  {
   "cell_type": "code",
   "execution_count": 19,
   "id": "b3bebd27-1278-41cd-bf7e-402c34a76024",
   "metadata": {},
   "outputs": [],
   "source": [
    "# load the model from disk\n",
    "filename = '../saved_models/logistic_regression_model.sav'\n",
    "loaded_model = pickle.load(open(filename, 'rb'))"
   ]
  },
  {
   "cell_type": "code",
   "execution_count": 20,
   "id": "67a84bff-9811-4775-9f78-19766eedcd69",
   "metadata": {},
   "outputs": [],
   "source": [
    "# Prediction - Based on FE values\n",
    "features_values = np.array([53, 1, 2, 171, 0, 0, 1, 147, 0, 5.3, 3, 3]).reshape(1, -1)"
   ]
  },
  {
   "cell_type": "code",
   "execution_count": 21,
   "id": "0f088a57",
   "metadata": {},
   "outputs": [
    {
     "data": {
      "text/plain": [
       "(1, 12)"
      ]
     },
     "execution_count": 21,
     "metadata": {},
     "output_type": "execute_result"
    }
   ],
   "source": [
    "features_values.shape"
   ]
  },
  {
   "cell_type": "code",
   "execution_count": 22,
   "id": "4b7dbf0a-87da-4c18-a4d0-a049a54c6040",
   "metadata": {},
   "outputs": [
    {
     "name": "stderr",
     "output_type": "stream",
     "text": [
      "C:\\Users\\divya\\anaconda3\\Lib\\site-packages\\sklearn\\base.py:464: UserWarning: X does not have valid feature names, but StandardScaler was fitted with feature names\n",
      "  warnings.warn(\n"
     ]
    },
    {
     "data": {
      "text/plain": [
       "(1, 12)"
      ]
     },
     "execution_count": 22,
     "metadata": {},
     "output_type": "execute_result"
    }
   ],
   "source": [
    "scaled_features_values = scaler.transform(features_values)\n",
    "scaled_features_values.shape"
   ]
  },
  {
   "cell_type": "code",
   "execution_count": 23,
   "id": "f0b9dc3a-f770-4017-9694-25b08c12be5e",
   "metadata": {},
   "outputs": [
    {
     "data": {
      "text/plain": [
       "(1,)"
      ]
     },
     "execution_count": 23,
     "metadata": {},
     "output_type": "execute_result"
    }
   ],
   "source": [
    "fe_model_output = loaded_model.predict(scaled_features_values)\n",
    "fe_model_output.shape"
   ]
  },
  {
   "cell_type": "code",
   "execution_count": 24,
   "id": "7944270d",
   "metadata": {},
   "outputs": [
    {
     "data": {
      "text/plain": [
       "array([1], dtype=int64)"
      ]
     },
     "execution_count": 24,
     "metadata": {},
     "output_type": "execute_result"
    }
   ],
   "source": [
    "fe_model_output"
   ]
  },
  {
   "cell_type": "code",
   "execution_count": 25,
   "id": "3aaa379d",
   "metadata": {},
   "outputs": [
    {
     "data": {
      "text/plain": [
       "(1, 2)"
      ]
     },
     "execution_count": 25,
     "metadata": {},
     "output_type": "execute_result"
    }
   ],
   "source": [
    "fe_model_proba_output = loaded_model.predict_proba(scaled_features_values)\n",
    "fe_model_proba_output.shape"
   ]
  },
  {
   "cell_type": "code",
   "execution_count": 26,
   "id": "fd6197a2",
   "metadata": {},
   "outputs": [
    {
     "data": {
      "text/plain": [
       "array([0.99987987])"
      ]
     },
     "execution_count": 26,
     "metadata": {},
     "output_type": "execute_result"
    }
   ],
   "source": [
    "fe_predict_probability = fe_model_proba_output[:,1]\n",
    "fe_predict_probability"
   ]
  }
 ],
 "metadata": {
  "kernelspec": {
   "display_name": "Python 3 (ipykernel)",
   "language": "python",
   "name": "python3"
  },
  "language_info": {
   "codemirror_mode": {
    "name": "ipython",
    "version": 3
   },
   "file_extension": ".py",
   "mimetype": "text/x-python",
   "name": "python",
   "nbconvert_exporter": "python",
   "pygments_lexer": "ipython3",
   "version": "3.11.5"
  }
 },
 "nbformat": 4,
 "nbformat_minor": 5
}
