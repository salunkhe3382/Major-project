{
 "cells": [
  {
   "cell_type": "code",
   "execution_count": 1,
   "id": "9c4c9959-9343-443f-a52c-b0fcee80f2a8",
   "metadata": {},
   "outputs": [],
   "source": [
    "import pandas as pd\n",
    "import numpy as np\n",
    "from sklearn.model_selection import train_test_split\n",
    "from sklearn.preprocessing import StandardScaler\n",
    "from sklearn.metrics import confusion_matrix,accuracy_score,roc_curve,classification_report\n",
    "from sklearn.ensemble import RandomForestClassifier\n",
    "import pickle\n",
    "import joblib"
   ]
  },
  {
   "cell_type": "code",
   "execution_count": 2,
   "id": "566887ae-8dbe-4bfb-9599-7c1e96f46701",
   "metadata": {},
   "outputs": [
    {
     "data": {
      "text/plain": [
       "(1000, 14)"
      ]
     },
     "execution_count": 2,
     "metadata": {},
     "output_type": "execute_result"
    }
   ],
   "source": [
    "data = pd.read_csv(\"../data/heart.csv\")\n",
    "data.shape"
   ]
  },
  {
   "cell_type": "code",
   "execution_count": 3,
   "id": "2051bc02-49f0-411c-a0b8-eeb59624ad77",
   "metadata": {},
   "outputs": [
    {
     "data": {
      "text/html": [
       "<div>\n",
       "<style scoped>\n",
       "    .dataframe tbody tr th:only-of-type {\n",
       "        vertical-align: middle;\n",
       "    }\n",
       "\n",
       "    .dataframe tbody tr th {\n",
       "        vertical-align: top;\n",
       "    }\n",
       "\n",
       "    .dataframe thead th {\n",
       "        text-align: right;\n",
       "    }\n",
       "</style>\n",
       "<table border=\"1\" class=\"dataframe\">\n",
       "  <thead>\n",
       "    <tr style=\"text-align: right;\">\n",
       "      <th></th>\n",
       "      <th>patientid</th>\n",
       "      <th>age</th>\n",
       "      <th>gender</th>\n",
       "      <th>chestpain</th>\n",
       "      <th>restingBP</th>\n",
       "      <th>serumcholestrol</th>\n",
       "      <th>fastingbloodsugar</th>\n",
       "      <th>restingrelectro</th>\n",
       "      <th>maxheartrate</th>\n",
       "      <th>exerciseangia</th>\n",
       "      <th>oldpeak</th>\n",
       "      <th>slope</th>\n",
       "      <th>noofmajorvessels</th>\n",
       "      <th>target</th>\n",
       "    </tr>\n",
       "  </thead>\n",
       "  <tbody>\n",
       "    <tr>\n",
       "      <th>0</th>\n",
       "      <td>103368</td>\n",
       "      <td>53</td>\n",
       "      <td>1</td>\n",
       "      <td>2</td>\n",
       "      <td>171</td>\n",
       "      <td>0</td>\n",
       "      <td>0</td>\n",
       "      <td>1</td>\n",
       "      <td>147</td>\n",
       "      <td>0</td>\n",
       "      <td>5.3</td>\n",
       "      <td>3</td>\n",
       "      <td>3</td>\n",
       "      <td>1</td>\n",
       "    </tr>\n",
       "    <tr>\n",
       "      <th>1</th>\n",
       "      <td>119250</td>\n",
       "      <td>40</td>\n",
       "      <td>1</td>\n",
       "      <td>0</td>\n",
       "      <td>94</td>\n",
       "      <td>229</td>\n",
       "      <td>0</td>\n",
       "      <td>1</td>\n",
       "      <td>115</td>\n",
       "      <td>0</td>\n",
       "      <td>3.7</td>\n",
       "      <td>1</td>\n",
       "      <td>1</td>\n",
       "      <td>0</td>\n",
       "    </tr>\n",
       "    <tr>\n",
       "      <th>2</th>\n",
       "      <td>119372</td>\n",
       "      <td>49</td>\n",
       "      <td>1</td>\n",
       "      <td>2</td>\n",
       "      <td>133</td>\n",
       "      <td>142</td>\n",
       "      <td>0</td>\n",
       "      <td>0</td>\n",
       "      <td>202</td>\n",
       "      <td>1</td>\n",
       "      <td>5.0</td>\n",
       "      <td>1</td>\n",
       "      <td>0</td>\n",
       "      <td>0</td>\n",
       "    </tr>\n",
       "    <tr>\n",
       "      <th>3</th>\n",
       "      <td>132514</td>\n",
       "      <td>43</td>\n",
       "      <td>1</td>\n",
       "      <td>0</td>\n",
       "      <td>138</td>\n",
       "      <td>295</td>\n",
       "      <td>1</td>\n",
       "      <td>1</td>\n",
       "      <td>153</td>\n",
       "      <td>0</td>\n",
       "      <td>3.2</td>\n",
       "      <td>2</td>\n",
       "      <td>2</td>\n",
       "      <td>1</td>\n",
       "    </tr>\n",
       "    <tr>\n",
       "      <th>4</th>\n",
       "      <td>146211</td>\n",
       "      <td>31</td>\n",
       "      <td>1</td>\n",
       "      <td>1</td>\n",
       "      <td>199</td>\n",
       "      <td>0</td>\n",
       "      <td>0</td>\n",
       "      <td>2</td>\n",
       "      <td>136</td>\n",
       "      <td>0</td>\n",
       "      <td>5.3</td>\n",
       "      <td>3</td>\n",
       "      <td>2</td>\n",
       "      <td>1</td>\n",
       "    </tr>\n",
       "  </tbody>\n",
       "</table>\n",
       "</div>"
      ],
      "text/plain": [
       "   patientid  age  gender  chestpain  restingBP  serumcholestrol  \\\n",
       "0     103368   53       1          2        171                0   \n",
       "1     119250   40       1          0         94              229   \n",
       "2     119372   49       1          2        133              142   \n",
       "3     132514   43       1          0        138              295   \n",
       "4     146211   31       1          1        199                0   \n",
       "\n",
       "   fastingbloodsugar  restingrelectro  maxheartrate  exerciseangia  oldpeak  \\\n",
       "0                  0                1           147              0      5.3   \n",
       "1                  0                1           115              0      3.7   \n",
       "2                  0                0           202              1      5.0   \n",
       "3                  1                1           153              0      3.2   \n",
       "4                  0                2           136              0      5.3   \n",
       "\n",
       "   slope  noofmajorvessels  target  \n",
       "0      3                 3       1  \n",
       "1      1                 1       0  \n",
       "2      1                 0       0  \n",
       "3      2                 2       1  \n",
       "4      3                 2       1  "
      ]
     },
     "execution_count": 3,
     "metadata": {},
     "output_type": "execute_result"
    }
   ],
   "source": [
    "data.head()"
   ]
  },
  {
   "cell_type": "code",
   "execution_count": 4,
   "id": "512cf14c-5eb3-4f92-939a-596a5ce5f007",
   "metadata": {},
   "outputs": [],
   "source": [
    "y = data[\"target\"]\n",
    "X = data.drop(columns=['patientid','target'])\n",
    "X_train, X_test, y_train, y_test = train_test_split(X, y, test_size=0.20, random_state = 0)"
   ]
  },
  {
   "cell_type": "code",
   "execution_count": 5,
   "id": "6256c9a5-4d6e-401c-81a6-9ec2df9795a0",
   "metadata": {},
   "outputs": [
    {
     "data": {
      "text/plain": [
       "(800, 200)"
      ]
     },
     "execution_count": 5,
     "metadata": {},
     "output_type": "execute_result"
    }
   ],
   "source": [
    "len(X_train), len(X_test)"
   ]
  },
  {
   "cell_type": "code",
   "execution_count": 6,
   "id": "cb77decc-d739-4c83-bb96-84a7c4df804e",
   "metadata": {},
   "outputs": [],
   "source": [
    "scaler = StandardScaler()\n",
    "X_train = scaler.fit_transform(X_train)\n",
    "X_test = scaler.transform(X_test)"
   ]
  },
  {
   "cell_type": "code",
   "execution_count": 7,
   "id": "660dacaf",
   "metadata": {},
   "outputs": [
    {
     "data": {
      "text/plain": [
       "(800, 12)"
      ]
     },
     "execution_count": 7,
     "metadata": {},
     "output_type": "execute_result"
    }
   ],
   "source": [
    "X_train.shape"
   ]
  },
  {
   "cell_type": "code",
   "execution_count": 8,
   "id": "d407eb07-e51e-4477-87c9-7089bcb29921",
   "metadata": {},
   "outputs": [
    {
     "data": {
      "text/plain": [
       "array([4.9766250e+01, 7.6875000e-01, 1.0075000e+00, 1.5193750e+02,\n",
       "       3.1404625e+02, 3.1250000e-01, 7.5000000e-01, 1.4558625e+02,\n",
       "       5.0875000e-01, 2.7481250e+00, 1.5600000e+00, 1.2412500e+00])"
      ]
     },
     "execution_count": 8,
     "metadata": {},
     "output_type": "execute_result"
    }
   ],
   "source": [
    "scaler.mean_"
   ]
  },
  {
   "cell_type": "code",
   "execution_count": 9,
   "id": "f89bf786-3f4c-42ab-a6dd-7aa6763ac557",
   "metadata": {},
   "outputs": [
    {
     "data": {
      "text/plain": [
       "(-1.6725143415733175,\n",
       " 1.6987823617198097,\n",
       " -1.0532897487880573,\n",
       " 2.08305689772725)"
      ]
     },
     "execution_count": 9,
     "metadata": {},
     "output_type": "execute_result"
    }
   ],
   "source": [
    "X_train[:, 0].min(), X_train[:, 0].max(), X_train[:, 2].min(), X_train[:, 2].max()"
   ]
  },
  {
   "cell_type": "code",
   "execution_count": 10,
   "id": "6f90af91-5c15-465a-827c-2569514a7e3a",
   "metadata": {},
   "outputs": [
    {
     "data": {
      "text/plain": [
       "array([ 0.40645196, -1.82327297, -1.05328975,  0.93522777,  1.53631292,\n",
       "       -0.67419986,  0.32547228,  1.35413438, -1.01765584, -0.49016407,\n",
       "        1.43899306,  1.79450419])"
      ]
     },
     "execution_count": 10,
     "metadata": {},
     "output_type": "execute_result"
    }
   ],
   "source": [
    "X_train[0]"
   ]
  },
  {
   "cell_type": "code",
   "execution_count": 11,
   "id": "d75031b2-4a93-41f2-a05e-74021719aeaa",
   "metadata": {},
   "outputs": [
    {
     "name": "stdout",
     "output_type": "stream",
     "text": [
      "confussion matrix\n",
      "[[ 92   3]\n",
      " [  2 103]]\n",
      "\n",
      "\n",
      "Accuracy of Random Forest: 97.5 \n",
      "\n",
      "              precision    recall  f1-score   support\n",
      "\n",
      "           0       0.98      0.97      0.97        95\n",
      "           1       0.97      0.98      0.98       105\n",
      "\n",
      "    accuracy                           0.97       200\n",
      "   macro avg       0.98      0.97      0.97       200\n",
      "weighted avg       0.98      0.97      0.97       200\n",
      "\n"
     ]
    }
   ],
   "source": [
    "rf = RandomForestClassifier(n_estimators=20, random_state=12,max_depth=5)\n",
    "rf.fit(X_train,y_train)\n",
    "rf_predicted = rf.predict(X_test)\n",
    "rf_conf_matrix = confusion_matrix(y_test, rf_predicted)\n",
    "rf_acc_score = accuracy_score(y_test, rf_predicted)\n",
    "print(\"confussion matrix\")\n",
    "print(rf_conf_matrix)\n",
    "print(\"\\n\")\n",
    "print(\"Accuracy of Random Forest:\",rf_acc_score*100,'\\n')\n",
    "print(classification_report(y_test,rf_predicted))"
   ]
  },
  {
   "cell_type": "code",
   "execution_count": 12,
   "id": "d4b465f0-d7e6-4fc6-ba90-04cbfd8e1ab6",
   "metadata": {},
   "outputs": [
    {
     "data": {
      "text/plain": [
       "array([1, 1, 1, 0, 1, 0, 1, 0, 1, 1, 1, 1, 0, 1, 0, 1, 1, 1, 0, 0, 0, 0,\n",
       "       0, 1, 1, 0, 0, 1, 1, 0, 0, 0, 1, 1, 1, 1, 1, 0, 0, 1, 0, 0, 1, 0,\n",
       "       1, 1, 0, 0, 0, 1, 0, 0, 1, 1, 0, 1, 1, 0, 1, 1, 1, 0, 1, 1, 0, 1,\n",
       "       1, 0, 1, 0, 0, 0, 1, 0, 0, 1, 0, 1, 1, 1, 1, 0, 1, 1, 0, 0, 0, 0,\n",
       "       0, 1, 1, 0, 1, 0, 1, 1, 0, 1, 1, 1, 1, 1, 1, 0, 1, 1, 1, 1, 0, 1,\n",
       "       1, 1, 0, 0, 0, 0, 1, 0, 1, 0, 0, 0, 0, 0, 1, 0, 0, 1, 1, 0, 0, 0,\n",
       "       0, 0, 0, 0, 0, 0, 1, 0, 0, 0, 1, 1, 1, 1, 0, 1, 1, 1, 0, 0, 0, 1,\n",
       "       0, 1, 1, 0, 1, 1, 1, 1, 0, 0, 1, 1, 1, 1, 1, 0, 0, 1, 1, 1, 0, 0,\n",
       "       1, 0, 1, 1, 0, 0, 0, 0, 0, 1, 0, 1, 1, 0, 1, 1, 0, 1, 0, 1, 0, 1,\n",
       "       1, 1], dtype=int64)"
      ]
     },
     "execution_count": 12,
     "metadata": {},
     "output_type": "execute_result"
    }
   ],
   "source": [
    "rf_predicted"
   ]
  },
  {
   "cell_type": "code",
   "execution_count": 13,
   "id": "cc11cfa0-03cc-4458-86e8-1afd58858f50",
   "metadata": {},
   "outputs": [
    {
     "data": {
      "text/plain": [
       "(200, 2)"
      ]
     },
     "execution_count": 13,
     "metadata": {},
     "output_type": "execute_result"
    }
   ],
   "source": [
    "rf_predict_proba = rf.predict_proba(X_test)\n",
    "rf_predict_proba.shape"
   ]
  },
  {
   "cell_type": "code",
   "execution_count": 14,
   "id": "aeff0b13-0747-415e-bc28-b2f280429a12",
   "metadata": {},
   "outputs": [
    {
     "data": {
      "text/plain": [
       "array([0.77258218, 0.91474373, 0.71891092, 0.18199333, 0.95937674,\n",
       "       0.02338862, 1.        , 0.39190585, 0.9864953 , 0.98181818,\n",
       "       0.88619932, 0.83987039, 0.01955714, 0.92021266, 0.05185241,\n",
       "       0.90599401, 0.99388632, 0.99462817, 0.20384827, 0.02338862,\n",
       "       0.2009448 , 0.36795343, 0.11675942, 0.97938867, 0.75366549,\n",
       "       0.02105424, 0.12778936, 0.83774339, 0.98280566, 0.01841803,\n",
       "       0.17928916, 0.3963181 , 0.98126897, 0.99564858, 0.90759887,\n",
       "       0.8231685 , 0.97328185, 0.0777008 , 0.0303685 , 0.6922285 ,\n",
       "       0.12352712, 0.29989445, 0.98468089, 0.36887694, 0.9670546 ,\n",
       "       0.98126897, 0.01632379, 0.15107399, 0.06908463, 0.9983871 ,\n",
       "       0.01458656, 0.07884528, 0.94667582, 0.97919601, 0.32712332,\n",
       "       0.96207966, 0.98178525, 0.03811701, 0.95244852, 0.95506991,\n",
       "       0.99564858, 0.01249232, 0.86844186, 0.96792582, 0.0113461 ,\n",
       "       0.99047619, 0.98948661, 0.01632379, 0.96394009, 0.03091987,\n",
       "       0.39107891, 0.02769677, 0.52747688, 0.06957941, 0.02152593,\n",
       "       0.69752003, 0.13233771, 0.98839172, 0.97160347, 0.94112081,\n",
       "       0.91454924, 0.01631668, 0.96926927, 0.90313686, 0.28842855,\n",
       "       0.01458656, 0.02169622, 0.02560253, 0.05289941, 0.98827044,\n",
       "       0.96163116, 0.01632379, 0.93845436, 0.47094803, 0.99674347,\n",
       "       0.95946092, 0.38591233, 0.97233294, 0.97125   , 0.94080333,\n",
       "       0.99674347, 0.60031296, 0.90652615, 0.04106574, 0.98280566,\n",
       "       0.96492529, 0.7957156 , 0.86844186, 0.0833109 , 0.98178525,\n",
       "       0.98331557, 0.97058307, 0.04937   , 0.0266668 , 0.15384827,\n",
       "       0.03211209, 0.95076854, 0.05619185, 0.91071092, 0.45902283,\n",
       "       0.04106574, 0.26952721, 0.04829602, 0.02985193, 0.99462817,\n",
       "       0.07664423, 0.25508952, 0.87368843, 0.99209528, 0.01841803,\n",
       "       0.12898588, 0.01249232, 0.22243802, 0.02338862, 0.08209389,\n",
       "       0.10921806, 0.02399507, 0.01688541, 0.98280566, 0.031159  ,\n",
       "       0.02338862, 0.1107363 , 0.96819017, 0.97028967, 0.98304217,\n",
       "       0.98348707, 0.1009448 , 0.95946374, 0.89599286, 0.94993993,\n",
       "       0.07664423, 0.03266735, 0.02252244, 0.94462817, 0.10468492,\n",
       "       0.81813636, 0.96683337, 0.04792883, 0.64990923, 0.88098875,\n",
       "       0.72824174, 0.97157257, 0.0250847 , 0.42545631, 0.98390055,\n",
       "       0.88168129, 0.99209528, 0.95599401, 0.6477095 , 0.05239161,\n",
       "       0.01266182, 0.97529234, 0.99209528, 0.89788435, 0.01862264,\n",
       "       0.01249232, 0.94299673, 0.05602926, 0.96446062, 0.98571429,\n",
       "       0.02519417, 0.10729498, 0.19084588, 0.11070494, 0.08571104,\n",
       "       0.866025  , 0.177372  , 0.98227671, 0.98948661, 0.08630142,\n",
       "       0.97529234, 1.        , 0.1233807 , 0.95506991, 0.04106574,\n",
       "       0.7687728 , 0.02252244, 0.94462817, 0.91935374, 0.75266132])"
      ]
     },
     "execution_count": 14,
     "metadata": {},
     "output_type": "execute_result"
    }
   ],
   "source": [
    "rf_predict_probability = rf_predict_proba[:,1]\n",
    "rf_predict_probability"
   ]
  },
  {
   "cell_type": "code",
   "execution_count": 15,
   "id": "42cc9d84-0b93-4185-b243-7762411e6bf7",
   "metadata": {},
   "outputs": [
    {
     "data": {
      "text/plain": [
       "(200,)"
      ]
     },
     "execution_count": 15,
     "metadata": {},
     "output_type": "execute_result"
    }
   ],
   "source": [
    "rf_predict_probability.shape"
   ]
  },
  {
   "cell_type": "code",
   "execution_count": 16,
   "id": "bde253cf-1034-44cf-a233-66c19946238a",
   "metadata": {},
   "outputs": [],
   "source": [
    "# save the model to disk\n",
    "filename = '../saved_models/random_forest_model.sav'\n",
    "pickle.dump(rf, open(filename, 'wb'))"
   ]
  },
  {
   "cell_type": "code",
   "execution_count": 17,
   "id": "93382d50",
   "metadata": {},
   "outputs": [
    {
     "data": {
      "text/plain": [
       "['../saved_models/random_forest_model_scaler']"
      ]
     },
     "execution_count": 17,
     "metadata": {},
     "output_type": "execute_result"
    }
   ],
   "source": [
    "# save the scaler to disk\n",
    "scaler_filename = \"../saved_models/random_forest_model_scaler\"\n",
    "joblib.dump(scaler, scaler_filename) "
   ]
  },
  {
   "cell_type": "markdown",
   "id": "1e4f6a4a-5648-49a8-8155-cc6cc70d4a90",
   "metadata": {},
   "source": [
    "# Front End"
   ]
  },
  {
   "cell_type": "code",
   "execution_count": 22,
   "id": "d9cd19ad",
   "metadata": {},
   "outputs": [],
   "source": [
    "# Load the scaler\n",
    "scaler_filename = \"../saved_models/random_forest_model_scaler\"\n",
    "scaler = joblib.load(scaler_filename)"
   ]
  },
  {
   "cell_type": "code",
   "execution_count": 23,
   "id": "b3bebd27-1278-41cd-bf7e-402c34a76024",
   "metadata": {},
   "outputs": [],
   "source": [
    "# load the model from disk\n",
    "filename = '../saved_models/random_forest_model.sav'\n",
    "loaded_model = pickle.load(open(filename, 'rb'))"
   ]
  },
  {
   "cell_type": "code",
   "execution_count": 21,
   "id": "67a84bff-9811-4775-9f78-19766eedcd69",
   "metadata": {},
   "outputs": [],
   "source": [
    "# Prediction - Based on FE values\n",
    "features_values = np.array([53, 1, 2, 171, 0, 0, 1, 147, 0, 5.3, 3, 3]).reshape(1, -1)"
   ]
  },
  {
   "cell_type": "code",
   "execution_count": 22,
   "id": "0f088a57",
   "metadata": {},
   "outputs": [
    {
     "data": {
      "text/plain": [
       "(1, 12)"
      ]
     },
     "execution_count": 22,
     "metadata": {},
     "output_type": "execute_result"
    }
   ],
   "source": [
    "features_values.shape"
   ]
  },
  {
   "cell_type": "code",
   "execution_count": 23,
   "id": "4b7dbf0a-87da-4c18-a4d0-a049a54c6040",
   "metadata": {},
   "outputs": [
    {
     "name": "stderr",
     "output_type": "stream",
     "text": [
      "C:\\Users\\divya\\anaconda3\\Lib\\site-packages\\sklearn\\base.py:464: UserWarning: X does not have valid feature names, but StandardScaler was fitted with feature names\n",
      "  warnings.warn(\n"
     ]
    },
    {
     "data": {
      "text/plain": [
       "(1, 12)"
      ]
     },
     "execution_count": 23,
     "metadata": {},
     "output_type": "execute_result"
    }
   ],
   "source": [
    "scaled_features_values = scaler.transform(features_values)\n",
    "scaled_features_values.shape"
   ]
  },
  {
   "cell_type": "code",
   "execution_count": 24,
   "id": "f0b9dc3a-f770-4017-9694-25b08c12be5e",
   "metadata": {},
   "outputs": [
    {
     "data": {
      "text/plain": [
       "(1,)"
      ]
     },
     "execution_count": 24,
     "metadata": {},
     "output_type": "execute_result"
    }
   ],
   "source": [
    "fe_model_output = loaded_model.predict(scaled_features_values)\n",
    "fe_model_output.shape"
   ]
  },
  {
   "cell_type": "code",
   "execution_count": 25,
   "id": "7944270d",
   "metadata": {},
   "outputs": [
    {
     "data": {
      "text/plain": [
       "array([1], dtype=int64)"
      ]
     },
     "execution_count": 25,
     "metadata": {},
     "output_type": "execute_result"
    }
   ],
   "source": [
    "fe_model_output"
   ]
  },
  {
   "cell_type": "code",
   "execution_count": 26,
   "id": "3aaa379d",
   "metadata": {},
   "outputs": [
    {
     "data": {
      "text/plain": [
       "(1, 2)"
      ]
     },
     "execution_count": 26,
     "metadata": {},
     "output_type": "execute_result"
    }
   ],
   "source": [
    "fe_model_proba_output = loaded_model.predict_proba(scaled_features_values)\n",
    "fe_model_proba_output.shape"
   ]
  },
  {
   "cell_type": "code",
   "execution_count": 27,
   "id": "fd6197a2",
   "metadata": {},
   "outputs": [
    {
     "data": {
      "text/plain": [
       "array([0.95946374])"
      ]
     },
     "execution_count": 27,
     "metadata": {},
     "output_type": "execute_result"
    }
   ],
   "source": [
    "fe_predict_probability = fe_model_proba_output[:,1]\n",
    "fe_predict_probability"
   ]
  },
  {
   "cell_type": "code",
   "execution_count": null,
   "id": "15ba25c7",
   "metadata": {},
   "outputs": [],
   "source": []
  }
 ],
 "metadata": {
  "kernelspec": {
   "display_name": "Python 3 (ipykernel)",
   "language": "python",
   "name": "python3"
  },
  "language_info": {
   "codemirror_mode": {
    "name": "ipython",
    "version": 3
   },
   "file_extension": ".py",
   "mimetype": "text/x-python",
   "name": "python",
   "nbconvert_exporter": "python",
   "pygments_lexer": "ipython3",
   "version": "3.11.5"
  }
 },
 "nbformat": 4,
 "nbformat_minor": 5
}
